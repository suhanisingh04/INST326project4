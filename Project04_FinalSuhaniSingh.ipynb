{
 "cells": [
  {
   "cell_type": "markdown",
   "id": "cddf5de3-a9f3-4471-bbaf-aca41a70ce89",
   "metadata": {},
   "source": [
    "#### INST326 OOP Project 04"
   ]
  },
  {
   "cell_type": "markdown",
   "id": "2bb7f115-9eba-4f29-918e-b016e6a7edc8",
   "metadata": {},
   "source": [
    "Rename this notebook, replacing \"_Assignment\" with \"_YourName\"<br>\n",
    "### Suhani Singh\n",
    "> INST326 Section 0104  \n",
    "> Group number / name: N/A  \n",
    "> Project 4  \n",
    "> 12/11/24  \n",
    "#### Honor Pledge\n",
    "> I pledge that the work contained in this assignment is my own, and that I have complied with University and course policies on academic integrity, and AI use.\n",
    "#### Disclosures and Citations\n",
    "None"
   ]
  },
  {
   "cell_type": "markdown",
   "id": "176a3739-9a16-4655-8cbb-a4cbfdf17226",
   "metadata": {},
   "source": [
    "You may work as an individual on **ONE** of the following projects, **OR** if you want to work as a group, contact Dr. Dempwolf for a project assignment. That group assignment will be part of an ongoing research project analyzing innovation ecosystems. "
   ]
  },
  {
   "cell_type": "markdown",
   "id": "8ee05bdb-db2d-41c2-9f23-3af75d058612",
   "metadata": {},
   "source": [
    "### Individual Projects\n",
    "Choose **ONE** of the following projects and write to code solution in the code cell below your choice. Use comments in your code to document your solution. If you need to write comments to the grader, add a markdown cell immediately above your code solution and add your comments there. Be sure to read and follow the Notebook Instructions at the bottom of this notebook. Your grade may depend on it! "
   ]
  },
  {
   "cell_type": "markdown",
   "id": "a1c98e85-2c64-4a03-8309-d91035cca6d2",
   "metadata": {},
   "source": [
    "#### 1. Library Management System\r",
    ">  Objective: Develop a system to manage a library’s collection of books, users, and loan records. This system should allow users to borrow and return books, as well as track which books are currently available.\n",
    ">\n",
    "> Requirements\n",
    ">>- Use classes to represent books, users, and the library.\n",
    ">>- Implement encapsulation to protect class attributes.\n",
    ">>- Use inheritance to handle different types of users (e.g., students and teachers).\n",
    ">>- Demonstrate polymorphism in borrowing rules (e.g., different borrowing limits for students vs. teachers).\n",
    ">>- Include methods for adding/removing books, registering users, and managing book loans.\n",
    ">>- Include execution code to demonstrate that your solution works"
   ]
  },
  {
   "cell_type": "code",
   "execution_count": null,
   "id": "8cf9723f-1ab6-4461-90b6-637a177e0f5a",
   "metadata": {},
   "outputs": [],
   "source": [
    "# Solution - enter your code solution below\n"
   ]
  },
  {
   "cell_type": "markdown",
   "id": "28b28d8a-dbb3-4f15-bbe0-e14504b84876",
   "metadata": {},
   "source": [
    "#### 2. Online Shopping Cart System\n",
    ">  Objective: Build a shopping cart system for an online store that manages products, shopping carts, and orders.\n",
    ">\n",
    "> Requirements\n",
    ">>- Use classes to represent products, shopping carts, and orders.\n",
    ">>- Implement encapsulation to handle product prices and cart contents securely.\n",
    ">>- Use inheritance to create different types of products (e.g., electronics, clothing).\n",
    ">>- Demonstrate polymorphism by calculating discounts based on product type.\n",
    ">>- Include execution code to demonstrate that your solution works"
   ]
  },
  {
   "cell_type": "code",
   "execution_count": 19,
   "id": "e655cf9f-d2fc-4541-918f-8d85b1c04e94",
   "metadata": {},
   "outputs": [
    {
     "name": "stdout",
     "output_type": "stream",
     "text": [
      "Total with discount: $1005.20\n"
     ]
    }
   ],
   "source": [
    "# Solution - enter your code solution below\n",
    "\n",
    "# Import the ABC (Abstract Base Class) and abstractmethod from the abc module\n",
    "from abc import ABC, abstractmethod\n",
    "\n",
    "# Define an abstract Product class to serve as a base class for different types of products\n",
    "class Product(ABC):\n",
    "    # Initialize the Product class with a name and price\n",
    "    def __init__(self, name, price):\n",
    "        self._name = name  # Store the product name\n",
    "        self._price = price  # Store the product price\n",
    "\n",
    "    # Define a property to get the product name\n",
    "    @property\n",
    "    def name(self):\n",
    "        return self._name\n",
    "\n",
    "    # Define a property to get the product price\n",
    "    @property\n",
    "    def price(self):\n",
    "        return self._price\n",
    "\n",
    "    # Define an abstract method to calculate the discount for a product\n",
    "    @abstractmethod\n",
    "    def calculate_discount(self):\n",
    "        pass\n",
    "\n",
    "# Define an Electronics subclass that inherits from the Product class\n",
    "class Electronics(Product):\n",
    "    # Initialize the Electronics class with a name, price, and warranty\n",
    "    def __init__(self, name, price, warranty):\n",
    "        super().__init__(name, price)  # Call the Product class constructor\n",
    "        self._warranty = warranty  # Store the warranty information\n",
    "\n",
    "    # Implement the calculate_discount method to calculate a 20% discount for electronics\n",
    "    def calculate_discount(self):\n",
    "        # Calculate the discount amount\n",
    "        return self.price * 0.20\n",
    "\n",
    "# Define a Clothing subclass that inherits from the Product class\n",
    "class Clothing(Product):\n",
    "    # Initialize the Clothing class with a name, price, and size\n",
    "    def __init__(self, name, price, size):\n",
    "        super().__init__(name, price)  # Call the Product class constructor\n",
    "        self._size = size  # Store the size information\n",
    "\n",
    "    # Implement the calculate_discount method to calculate a 50% discount for clothing\n",
    "    def calculate_discount(self):\n",
    "        # Calculate the discount amount\n",
    "        return self.price * 0.50\n",
    "\n",
    "# Define a ShoppingCart class to manage a collection of products\n",
    "class ShoppingCart:\n",
    "    # Initialize the ShoppingCart class with an empty list of products\n",
    "    def __init__(self):\n",
    "        self._products = []  # Store the products in a list\n",
    "\n",
    "    # Define a method to add a product to the shopping cart\n",
    "    def add_product(self, product):\n",
    "        self._products.append(product)  # Add the product to the list\n",
    "\n",
    "    # Define a method to calculate the total cost of the products in the shopping cart\n",
    "    def calculate_total(self):\n",
    "        # Calculate the total cost by summing the prices of all products\n",
    "        total = sum(product.price for product in self._products)\n",
    "        return total\n",
    "\n",
    "    # Define a method to calculate the total discount for the products in the shopping cart\n",
    "    def calculate_discount(self):\n",
    "        # Calculate the total discount by summing the discounts of all products\n",
    "        total_discount = sum(product.calculate_discount() for product in self._products)\n",
    "        return total_discount\n",
    "\n",
    "# Define an Order class to represent a completed order\n",
    "class Order:\n",
    "    # Initialize the Order class with a shopping cart\n",
    "    def __init__(self, shopping_cart):\n",
    "        self._shopping_cart = shopping_cart  # Store the shopping cart\n",
    "\n",
    "    # Define a method to calculate the total cost with discount for the order\n",
    "    def calculate_total_with_discount(self):\n",
    "        # Calculate the total cost by calling the calculate_total method of the shopping cart\n",
    "        total = self._shopping_cart.calculate_total()\n",
    "        # Calculate the discount by calling the calculate_discount method of the shopping cart\n",
    "        discount = self._shopping_cart.calculate_discount()\n",
    "        # Return the total cost with discount\n",
    "        return total - discount\n",
    "\n",
    "# Execution code\n",
    "if __name__ == \"__main__\":\n",
    "    # Create products\n",
    "    electronics = Electronics(\"iPhone 16 Pro Max\", 1199, \"1 year\")  # Create an electronics product\n",
    "    clothing = Clothing(\"Brea Sequin Mini Dress\", 92, 'Medium')  # Create a clothing product\n",
    "\n",
    "    # Create a shopping cart\n",
    "    shopping_cart = ShoppingCart()  # Initialize an empty shopping cart\n",
    "    shopping_cart.add_product(electronics)  # Add the electronics product to the shopping cart\n",
    "    shopping_cart.add_product(clothing)  # Add the clothing product to the shopping cart\n",
    "\n",
    "    # Create an order\n",
    "    order = Order(shopping_cart)  # Initialize an order with the shopping cart\n",
    "\n",
    "    # Calculate the total cost with discount for the order\n",
    "    total_with_discount = order.calculate_total_with_discount()  # Calculate the total cost with discount\n",
    "    print(f\"Total with discount: ${total_with_discount:.2f}\")  # Print the result"
   ]
  },
  {
   "cell_type": "markdown",
   "id": "6708f6cf-aac7-430e-947d-6f9c8dd161f6",
   "metadata": {},
   "source": [
    "#### 3. Restaurant Reservation System\n",
    ">  Objective: Create a reservation system for a restaurant that manages tables, reservations, and customers.\n",
    ">\n",
    ">  Requirements\n",
    ">>- Use classes to represent tables, customers, and reservations.\n",
    ">>- Implement encapsulation for managing table availability and reservation details.\n",
    ">>- Use inheritance to differentiate between walk-in and advance reservations.\n",
    ">>- Demonstrate polymorphism by handling special cases (e.g., priority seating for VIP customers).\n",
    ">>- Include execution code to demonstrate that your solution works"
   ]
  },
  {
   "cell_type": "code",
   "execution_count": null,
   "id": "992556f0-32d7-464d-99db-6cd10b907784",
   "metadata": {},
   "outputs": [],
   "source": [
    "# Solution - enter your code solution below\n"
   ]
  },
  {
   "cell_type": "markdown",
   "id": "5a53bd40-c45e-49da-b4d7-10da7f13dc87",
   "metadata": {},
   "source": [
    "#### 4. Vehicle Rental System\n",
    ">  Objective: Develop a vehicle rental system that manages a fleet of vehicles, customer rentals, and payment processing.\n",
    ">\n",
    ">  Requirements\n",
    ">>- Use classes to represent different types of vehicles, customers, and rental transactions.\n",
    ">>- Implement encapsulation to handle sensitive information like customer payment details.\n",
    ">>- Use inheritance to differentiate between various vehicle types (e.g., cars, trucks, motorcycles).\n",
    ">>- Demonstrate polymorphism by applying different rental pricing strategies based on vehicle type.\n",
    ">>- Include execution code to demonstrate that your solution works"
   ]
  },
  {
   "cell_type": "code",
   "execution_count": null,
   "id": "1a091048-b769-4550-9433-d68de6e0d2f2",
   "metadata": {},
   "outputs": [],
   "source": [
    "# Solution - enter your code solution below\n"
   ]
  },
  {
   "cell_type": "markdown",
   "id": "f0c73f2e-9616-459e-ac0d-c82da9b6ac82",
   "metadata": {},
   "source": [
    "#### 5. Online Learning Platform\n",
    ">  Objective: Create an online learning platform that manages courses, students, and instructors.\n",
    ">  \n",
    ">  Requirements\n",
    ">>- Use classes to represent courses, students, and instructors.\n",
    ">>- Implement encapsulation to manage sensitive information like student grades.\n",
    ">>- Use inheritance to handle different types of courses (e.g., free, paid, and premium).\n",
    ">>- Demonstrate polymorphism in applying different grading schemes for assignments.\n",
    ">>- Include execution code to demonstrate that your solution works"
   ]
  },
  {
   "cell_type": "code",
   "execution_count": null,
   "id": "1904cb6f-07d7-4630-bc13-59387bae91e8",
   "metadata": {},
   "outputs": [],
   "source": [
    "# Solution - enter your code solution below\n"
   ]
  },
  {
   "cell_type": "markdown",
   "id": "aee162f1-c1b7-45ac-814d-3e1d4d843ae9",
   "metadata": {},
   "source": [
    "#### 6. E-Commerce Order Processing System\n",
    ">  Objective: Build an order processing system for an online store that manages products, customers, and orders.\n",
    ">  \n",
    ">  Requirements\n",
    ">>- Use classes to represent products, customers, and orders.\n",
    ">>- Implement encapsulation for handling payment details securely.\n",
    ">>- Use inheritance for different types of products (e.g., physical goods, digital downloads).\n",
    ">>- Demonstrate polymorphism by applying different shipping costs based on product type.\n",
    ">>- Include execution code to demonstrate that your solution works"
   ]
  },
  {
   "cell_type": "code",
   "execution_count": null,
   "id": "df4f6272-0b52-4fa7-b520-a6fdf37b8f65",
   "metadata": {},
   "outputs": [],
   "source": [
    "# Solution - enter your code solution below\n"
   ]
  },
  {
   "cell_type": "markdown",
   "id": "ec8ddd19-87cd-475d-a07f-7dc8983dc636",
   "metadata": {},
   "source": [
    "### Notebook Instructions\n",
    "> Before turning in your notebook:\n",
    "> 1. Make sure you have renamed the notebook file as instructed\n",
    "> 2. Make sure you have included your signature block and that it is correct according to the instructions\n",
    "> 3. comment your code as necessary\n",
    "> 4. run all code cells and double check that they run correctly. Include you execution code in your submission. If you can't get your code to run correctly and you want partial credit, add a note for the grader in a new markdown cell directly above your code solution.<br><br>\n",
    "Turn in your notebook by uploading it to ELMS<br>\n",
    "IF the exercises involve saved data files, put your notebook and the data file(s) in a zip folder and upload the zip folder to ELMS"
   ]
  }
 ],
 "metadata": {
  "kernelspec": {
   "display_name": "Python 3 (ipykernel)",
   "language": "python",
   "name": "python3"
  },
  "language_info": {
   "codemirror_mode": {
    "name": "ipython",
    "version": 3
   },
   "file_extension": ".py",
   "mimetype": "text/x-python",
   "name": "python",
   "nbconvert_exporter": "python",
   "pygments_lexer": "ipython3",
   "version": "3.12.4"
  }
 },
 "nbformat": 4,
 "nbformat_minor": 5
}
